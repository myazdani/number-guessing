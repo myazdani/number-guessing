{
  "nbformat": 4,
  "nbformat_minor": 0,
  "metadata": {
    "colab": {
      "name": "number-guessing-learner.ipynb",
      "provenance": [],
      "collapsed_sections": [],
      "authorship_tag": "ABX9TyN4w7ow+libtuGUFQ7pjrB3",
      "include_colab_link": true
    },
    "kernelspec": {
      "name": "python3",
      "display_name": "Python 3"
    },
    "language_info": {
      "name": "python"
    }
  },
  "cells": [
    {
      "cell_type": "markdown",
      "metadata": {
        "id": "view-in-github",
        "colab_type": "text"
      },
      "source": [
        "<a href=\"https://colab.research.google.com/github/myazdani/number-guessing/blob/master/number_guessing_learner.ipynb\" target=\"_parent\"><img src=\"https://colab.research.google.com/assets/colab-badge.svg\" alt=\"Open In Colab\"/></a>"
      ]
    },
    {
      "cell_type": "code",
      "source": [
        "import torch\n",
        "from torch import nn\n",
        "import numpy as np\n",
        "from torch import optim\n",
        "import random\n",
        "import matplotlib.pyplot as plt\n",
        "import seaborn as sns"
      ],
      "metadata": {
        "id": "DJ3tvOeiAEnW"
      },
      "execution_count": 1,
      "outputs": []
    },
    {
      "cell_type": "markdown",
      "source": [
        "### Card mumber generation "
      ],
      "metadata": {
        "id": "wPRBPAswAPu-"
      }
    },
    {
      "cell_type": "code",
      "source": [
        "class NormalCards:\n",
        "    def __init__(self, mu, sigma,num_cards = 2):\n",
        "        self.num_cards = 2\n",
        "        self.mu = mu\n",
        "        self.sigma = sigma\n",
        "\n",
        "\n",
        "    def draw_cards(self, flip_coin = False):\n",
        "        selected_numbers = self.sigma*torch.randn(2)+self.mu\n",
        "        if flip_coin:\n",
        "            shuffled = torch.randperm(self.num_cards)     \n",
        "            return selected_numbers[shuffled]\n",
        "        else:\n",
        "            return selected_numbers\n"
      ],
      "metadata": {
        "id": "sUv-_f9iAFrc"
      },
      "execution_count": 2,
      "outputs": []
    },
    {
      "cell_type": "markdown",
      "source": [
        "### Agents"
      ],
      "metadata": {
        "id": "PaKruZj7AWGu"
      }
    },
    {
      "cell_type": "code",
      "source": [
        "class RandomDecision:\n",
        "\n",
        "    def decision(self, shown_number=0):\n",
        "        self.prediction = bool(random.randint(0,1))\n",
        "        return self.prediction\n",
        "\n",
        "    def update_rule(self, actual):\n",
        "        pass\n",
        "\n",
        "\n",
        "class AlwaysTrue:\n",
        "\n",
        "    def decision(self, shown_number=0):\n",
        "        self.prediction = True\n",
        "        return self.prediction\n",
        "\n",
        "    def update_rule(self, actual):\n",
        "        pass  \n",
        "\n",
        "\n",
        "class OptimalDecision:\n",
        "\n",
        "    def sigmoid(self, x):\n",
        "        \"\"\"\n",
        "        A numerically stable version of the logistic sigmoid function.\n",
        "        \"\"\"\n",
        "        pos_mask = (x >= 0)\n",
        "        neg_mask = (x < 0)\n",
        "        z = np.zeros_like(x)\n",
        "        z[pos_mask] = np.exp(-x[pos_mask])\n",
        "        z[neg_mask] = np.exp(x[neg_mask])\n",
        "        top = np.ones_like(x)\n",
        "        top[neg_mask] = z[neg_mask]\n",
        "        return top / (1 + z)\n",
        "\n",
        "    def decision(self, shown_number=0):\n",
        "        z = np.random.rand()\n",
        "        shown_number_squashed = self.sigmoid(shown_number)\n",
        "        if z <= shown_number_squashed:\n",
        "            return 0\n",
        "        else:\n",
        "            return 1\n",
        "\n",
        "\n",
        "\n",
        "class LinearDecision:\n",
        "    # Reference for online logistic regerssion learning rule: \n",
        "    # https://courses.cs.washington.edu/courses/cse547/16sp/slides/logistic-SGD.pdf\n",
        "    def __init__(self, lr = 0.1):\n",
        "        self.w0 = torch.randn(1)\n",
        "        self.w1 = torch.randn(1)\n",
        "        self.sigmoid = nn.Sigmoid()\n",
        "        self.lr = lr\n",
        "        self.t = 1\n",
        "    \n",
        "    def decision(self, shown_number):\n",
        "        self.shown_number = shown_number\n",
        "        self.prediction = self.sigmoid(self.shown_number*self.w1 + self.w0)\n",
        "        decision = bool(self.prediction > 0.5)\n",
        "        return decision\n",
        "\n",
        "    def update_rule(self, actual):\n",
        "        delta = actual - self.prediction\n",
        "        eta = self.lr/(1+np.log(self.t))\n",
        "        self.w0 = self.w0 + eta*delta\n",
        "        self.w1 = self.w1 + eta*self.shown_number*delta\n",
        "        self.t+=1\n",
        "                    \n",
        "\n",
        "\n",
        "class LinearMLPDecision:\n",
        "    def __init__(self, lr = 0.1):\n",
        "        self.model = nn.Sequential(\n",
        "            nn.Linear(1, 1), nn.Sigmoid()\n",
        "        )\n",
        "        self.lr = lr\n",
        "        self.t = 1\n",
        "        self.loss = nn.BCELoss()\n",
        "        self.sgd = optim.SGD(self.model.parameters(), lr=self.lr)\n",
        "\n",
        "\n",
        "    def z_scale(self, shown_number):\n",
        "        if self.t == 1:\n",
        "            self.mu = 0\n",
        "            self.sigma = 0\n",
        "        self.mu = ((self.t-1)*self.mu + shown_number)/self.t\n",
        "        self.sigma = ((self.t-1)*self.sigma + (shown_number-self.mu)**2)/self.t\n",
        "        if self.t > 1:\n",
        "            z = (shown_number-self.mu)/self.sigma**.5\n",
        "        else:\n",
        "            z = shown_number \n",
        "        return z          \n",
        "\n",
        "\n",
        "    def decision(self, shown_number):\n",
        "        self.shown_number = self.z_scale(shown_number)\n",
        "        self.prediction = self.model(self.shown_number.view(1,1))\n",
        "        decision = bool(self.prediction.item() > 0.5)\n",
        "        return decision\n",
        "\n",
        "    def update_rule(self, actual):\n",
        "        eta = self.lr/(1+np.log(self.t))\n",
        "        for g in self.sgd.param_groups:\n",
        "            g['lr'] = eta\n",
        "        loss = self.loss(self.prediction, actual.view(1,1))\n",
        "        self.sgd.zero_grad()\n",
        "        loss.backward()\n",
        "        self.sgd.step()\n",
        "        self.t+=1\n",
        "        \n",
        "\n",
        "class MLPDecision:\n",
        "    def __init__(self, lr = 0.1):\n",
        "        self.model = nn.Sequential(\n",
        "            nn.Linear(1, 128),\n",
        "            nn.ReLU(), \n",
        "            nn.Linear(128, 1),\n",
        "            nn.Sigmoid()\n",
        "        )\n",
        "        self.lr = lr\n",
        "        self.t = 1\n",
        "        self.loss = nn.BCELoss()\n",
        "        #self.sgd = optim.Adam(self.model.parameters(), lr=self.lr)\n",
        "        self.sgd = optim.SGD(self.model.parameters(), lr=self.lr)\n",
        "\n",
        "    def z_scale(self, shown_number):\n",
        "        if self.t == 1:\n",
        "            self.mu = 0\n",
        "            self.sigma = 0\n",
        "        self.mu = ((self.t-1)*self.mu + shown_number)/self.t\n",
        "        self.sigma = ((self.t-1)*self.sigma + (shown_number-self.mu)**2)/self.t\n",
        "        if self.t > 1:\n",
        "            z = (shown_number-self.mu)/self.sigma**.5\n",
        "        else:\n",
        "            z = shown_number \n",
        "        return z  \n",
        "\n",
        "    def decision(self, shown_number):\n",
        "        self.shown_number = self.z_scale(shown_number)\n",
        "        self.prediction = self.model(self.shown_number.view(1,1))\n",
        "        decision = bool(self.prediction.item() > 0.5)\n",
        "        return decision\n",
        "\n",
        "    def update_rule(self, actual):\n",
        "        eta = self.lr/(1+np.log(self.t))\n",
        "        for g in self.sgd.param_groups:\n",
        "            g['lr'] = eta\n",
        "        loss = self.loss(self.prediction, actual.view(1,1))\n",
        "        self.sgd.zero_grad()\n",
        "        loss.backward()\n",
        "        self.sgd.step()\n",
        "        self.t+=1\n",
        "                "
      ],
      "metadata": {
        "id": "47_oFUf8AFp3"
      },
      "execution_count": 3,
      "outputs": []
    },
    {
      "cell_type": "markdown",
      "source": [
        "### Game play"
      ],
      "metadata": {
        "id": "DlPszJQrAbou"
      }
    },
    {
      "cell_type": "code",
      "source": [
        "def generate_game(num_iterations, card_generator, agents):\n",
        "    agent_rewards = {key:[] for key in agents.keys()}\n",
        "\n",
        "    def get_reward(hidden_number_is_bigger, actual):\n",
        "        if hidden_number_is_bigger == actual:\n",
        "            return 1\n",
        "        else:\n",
        "            return 0\n",
        "     \n",
        "    for i in range(num_iterations):\n",
        "        selected_numbers = card_generator.draw_cards()\n",
        "        shown_number = selected_numbers[0]\n",
        "        hidden_number = selected_numbers[1]\n",
        "\n",
        "        actual = hidden_number > shown_number\n",
        "\n",
        "        for agent in agents.keys():\n",
        "            hidden_number_is_bigger = agents[agent].decision(shown_number)\n",
        "            reward = get_reward(hidden_number_is_bigger, actual) \n",
        "            agent_rewards[agent].append(reward)\n",
        "            if hasattr(agents[agent], 'update_rule'):\n",
        "                agents[agent].update_rule(actual.type(torch.float32))     \n",
        "\n",
        "    return agent_rewards"
      ],
      "metadata": {
        "id": "f7Mv6jvVAFoh"
      },
      "execution_count": 4,
      "outputs": []
    },
    {
      "cell_type": "markdown",
      "source": [
        "### Cards drawn from normal distribution"
      ],
      "metadata": {
        "id": "jgNqGg8PAfY_"
      }
    },
    {
      "cell_type": "code",
      "source": [
        "%%time\n",
        "num_plays = 10000\n",
        "\n",
        "\n",
        "agents = {\"random_agent\": RandomDecision(),\n",
        "          \"true_agent\":AlwaysTrue(),\n",
        "          \"optimal_agent\":OptimalDecision(),\n",
        "          \"linear_agent\":LinearMLPDecision(1e-3),\n",
        "          \"mlp_agent\":MLPDecision(1e-3),\n",
        "          }\n",
        "\n",
        "normal_cards = NormalCards(mu=100, sigma = 3)\n",
        "\n",
        "rewards = generate_game(num_iterations=num_plays, \n",
        "                        card_generator=normal_cards, \n",
        "                        agents=agents\n",
        "                        )\n",
        "\n",
        "oracle_rewards = np.cumsum(np.ones_like(range(num_plays)))"
      ],
      "metadata": {
        "colab": {
          "base_uri": "https://localhost:8080/"
        },
        "id": "SI3rVIe4AFnA",
        "outputId": "8c2af9e6-62f8-4a12-b973-eef47c870bef"
      },
      "execution_count": 5,
      "outputs": [
        {
          "output_type": "stream",
          "name": "stdout",
          "text": [
            "CPU times: user 12 s, sys: 44.4 ms, total: 12 s\n",
            "Wall time: 12 s\n"
          ]
        }
      ]
    },
    {
      "cell_type": "code",
      "source": [
        "color = iter(plt.cm.rainbow(np.linspace(0, 1, len(rewards))))\n",
        "\n",
        "for i, key in enumerate(rewards.keys()):\n",
        "    c = next(color)\n",
        "    plt.plot(oracle_rewards - np.cumsum(rewards[key]), color = c, alpha = .5,\n",
        "        label = key)\n",
        "plt.legend()"
      ],
      "metadata": {
        "colab": {
          "base_uri": "https://localhost:8080/",
          "height": 282
        },
        "id": "-w2CZ3rVAFk1",
        "outputId": "f603b3d4-cfbf-4850-899d-ae24d3eea59f"
      },
      "execution_count": 6,
      "outputs": [
        {
          "output_type": "execute_result",
          "data": {
            "text/plain": [
              "<matplotlib.legend.Legend at 0x7f9f56744710>"
            ]
          },
          "metadata": {},
          "execution_count": 6
        },
        {
          "output_type": "display_data",
          "data": {
            "text/plain": [
              "<Figure size 432x288 with 1 Axes>"
            ],
            "image/png": "[encoded data removed]"
          },
          "metadata": {
            "needs_background": "light"
          }
        }
      ]
    },
    {
      "cell_type": "code",
      "source": [
        ""
      ],
      "metadata": {
        "id": "iM1wS4KZAFjn"
      },
      "execution_count": null,
      "outputs": []
    },
    {
      "cell_type": "code",
      "source": [
        ""
      ],
      "metadata": {
        "id": "IeC1s-EbAFh9"
      },
      "execution_count": null,
      "outputs": []
    },
    {
      "cell_type": "code",
      "source": [
        ""
      ],
      "metadata": {
        "id": "5JZVEiFXAFeD"
      },
      "execution_count": null,
      "outputs": []
    },
    {
      "cell_type": "code",
      "source": [
        ""
      ],
      "metadata": {
        "id": "vs8gUyKGAFbt"
      },
      "execution_count": null,
      "outputs": []
    },
    {
      "cell_type": "markdown",
      "source": [
        "# Old stuff\n",
        "Reference for online logistic regerssion learning rule: https://courses.cs.washington.edu/courses/cse547/16sp/slides/logistic-SGD.pdf\n",
        "\n"
      ],
      "metadata": {
        "id": "PyQlL0qj4aJT"
      }
    },
    {
      "cell_type": "code",
      "execution_count": null,
      "metadata": {
        "id": "UMoPK2jmEeFw"
      },
      "outputs": [],
      "source": [
        "import torch\n",
        "from torch import nn\n",
        "import numpy as np\n",
        "from torch import optim\n"
      ]
    },
    {
      "cell_type": "code",
      "source": [
        "import random\n",
        "import matplotlib.pyplot as plt\n",
        "import seaborn as sns"
      ],
      "metadata": {
        "id": "F3ie34WAFCNv"
      },
      "execution_count": null,
      "outputs": []
    },
    {
      "cell_type": "code",
      "source": [
        "class RandomDecision:\n",
        "\n",
        "    def decision(self, shown_number=0):\n",
        "        self.prediction = bool(random.randint(0,1))\n",
        "        return self.prediction\n",
        "\n",
        "    def update_rule(self, actual):\n",
        "        pass\n",
        "\n",
        "\n",
        "class AlwaysTrue:\n",
        "\n",
        "    def decision(self, shown_number=0):\n",
        "        self.prediction = True\n",
        "        return self.prediction\n",
        "\n",
        "    def update_rule(self, actual):\n",
        "        pass  \n",
        "\n",
        "\n",
        "class OptimalDecision:\n",
        "\n",
        "    def sigmoid(self, x):\n",
        "        \"\"\"\n",
        "        A numerically stable version of the logistic sigmoid function.\n",
        "        \"\"\"\n",
        "        pos_mask = (x >= 0)\n",
        "        neg_mask = (x < 0)\n",
        "        z = np.zeros_like(x)\n",
        "        z[pos_mask] = np.exp(-x[pos_mask])\n",
        "        z[neg_mask] = np.exp(x[neg_mask])\n",
        "        top = np.ones_like(x)\n",
        "        top[neg_mask] = z[neg_mask]\n",
        "        return top / (1 + z)\n",
        "\n",
        "    def decision(self, shown_number=0):\n",
        "        z = np.random.rand()\n",
        "        shown_number_squashed = self.sigmoid(shown_number)\n",
        "        if z <= shown_number_squashed:\n",
        "            return 0\n",
        "        else:\n",
        "            return 1\n"
      ],
      "metadata": {
        "id": "_sEeGe0mFpLJ"
      },
      "execution_count": null,
      "outputs": []
    },
    {
      "cell_type": "code",
      "source": [
        "class LinearDecision:\n",
        "    def __init__(self, lr = 0.1):\n",
        "        self.w0 = torch.randn(1)\n",
        "        self.w1 = torch.randn(1)\n",
        "        self.sigmoid = nn.Sigmoid()\n",
        "        self.lr = lr\n",
        "        self.t = 1\n",
        "    \n",
        "    def decision(self, shown_number):\n",
        "        self.shown_number = shown_number\n",
        "        self.prediction = self.sigmoid(self.shown_number*self.w1 + self.w0)\n",
        "        decision = bool(self.prediction > 0.5)\n",
        "        return decision\n",
        "\n",
        "    def update_rule(self, actual):\n",
        "        delta = actual - self.prediction\n",
        "        eta = self.lr/(1+np.log(self.t))\n",
        "        self.w0 = self.w0 + eta*delta\n",
        "        self.w1 = self.w1 + eta*self.shown_number*delta\n",
        "        self.t+=1\n",
        "        "
      ],
      "metadata": {
        "id": "ldkSmcjvZ5MH"
      },
      "execution_count": null,
      "outputs": []
    },
    {
      "cell_type": "code",
      "source": [
        "class LinearMLPDecision:\n",
        "    def __init__(self, lr = 0.1):\n",
        "        self.model = nn.Sequential(\n",
        "            nn.Linear(1, 1), nn.Sigmoid()\n",
        "        )\n",
        "        self.lr = lr\n",
        "        self.t = 1\n",
        "        self.loss = nn.BCELoss()\n",
        "        self.sgd = optim.SGD(self.model.parameters(), lr=self.lr)\n",
        "\n",
        "\n",
        "    def decision(self, shown_number):\n",
        "        self.shown_number = shown_number\n",
        "        self.prediction = self.model(shown_number.view(1,1))\n",
        "        decision = bool(self.prediction.item() > 0.5)\n",
        "        return decision\n",
        "\n",
        "    def update_rule(self, actual):\n",
        "        eta = self.lr/(1+np.log(self.t))\n",
        "        for g in self.sgd.param_groups:\n",
        "            g['lr'] = eta\n",
        "        loss = self.loss(self.prediction, actual.view(1,1))\n",
        "        self.sgd.zero_grad()\n",
        "        loss.backward()\n",
        "        self.sgd.step()\n",
        "        self.t+=1\n",
        "        "
      ],
      "metadata": {
        "id": "99HCdfBrivgo"
      },
      "execution_count": null,
      "outputs": []
    },
    {
      "cell_type": "code",
      "source": [
        "class MLPDecision:\n",
        "    def __init__(self, lr = 0.1):\n",
        "        self.model = nn.Sequential(\n",
        "            nn.Linear(1, 128),\n",
        "            nn.ReLU(), \n",
        "            nn.Linear(128, 1),\n",
        "            nn.Sigmoid()\n",
        "        )\n",
        "        self.lr = lr\n",
        "        self.t = 1\n",
        "        self.loss = nn.BCELoss()\n",
        "        #self.sgd = optim.Adam(self.model.parameters(), lr=self.lr)\n",
        "        self.sgd = optim.SGD(self.model.parameters(), lr=self.lr)\n",
        "\n",
        "\n",
        "    def decision(self, shown_number):\n",
        "        self.shown_number = shown_number\n",
        "        self.prediction = self.model(shown_number.view(1,1))\n",
        "        decision = bool(self.prediction.item() > 0.5)\n",
        "        return decision\n",
        "\n",
        "    def update_rule(self, actual):\n",
        "        eta = self.lr/(1+np.log(self.t))\n",
        "        for g in self.sgd.param_groups:\n",
        "            g['lr'] = eta\n",
        "        loss = self.loss(self.prediction, actual.view(1,1))\n",
        "        self.sgd.zero_grad()\n",
        "        loss.backward()\n",
        "        self.sgd.step()\n",
        "        self.t+=1\n",
        "        "
      ],
      "metadata": {
        "id": "4dux2QiamiPv"
      },
      "execution_count": 216,
      "outputs": []
    },
    {
      "cell_type": "markdown",
      "source": [
        "### normal distribution"
      ],
      "metadata": {
        "id": "Euo3J4kptboK"
      }
    },
    {
      "cell_type": "code",
      "source": [
        "\n",
        "\n",
        "\n",
        "    \n",
        "\n",
        "\n",
        "all_correct_rewards = np.cumsum(np.ones_like(linear_rewards))"
      ],
      "metadata": {
        "id": "QZ1B4-TKG-dz"
      },
      "execution_count": null,
      "outputs": []
    },
    {
      "cell_type": "code",
      "source": [
        "def generate_normal_run(num_iterations = 10000):\n",
        "    random_agent = RandomDecision()\n",
        "    true_agent = AlwaysTrue()\n",
        "    optimal_agent = OptimalDecision()\n",
        "    linear_agent = LinearMLPDecision(1e-3)\n",
        "    #linear_agent = LinearDecision(1e-3)\n",
        "    mlp_agent = MLPDecision(1e-3)\n",
        "    random_rewards = []\n",
        "    always_true_rewards = []\n",
        "    linear_rewards = []\n",
        "    mlp_rewards = []\n",
        "    optimal_rewards = []\n",
        "\n",
        "\n",
        "    def get_reward(hidden_number_is_bigger, actual):\n",
        "        if hidden_number_is_bigger == actual:\n",
        "            return 1\n",
        "        else:\n",
        "            return 0\n",
        "\n",
        "    mu = 0\n",
        "    sigma = 0\n",
        "    for i in range(10000):\n",
        "        selected_numbers = 3*torch.randn(2)+1000\n",
        "        coin_flip = random.randint(0,1)\n",
        "        shown_number = selected_numbers[coin_flip]\n",
        "        hidden_number = selected_numbers[~coin_flip]\n",
        "\n",
        "        actual = hidden_number > shown_number\n",
        "\n",
        "        ## naive strategy\n",
        "        hidden_number_is_bigger = random_agent.decision(shown_number)\n",
        "        random_rewards.append(get_reward(hidden_number_is_bigger, actual))\n",
        "\n",
        "        ## always return true strategy\n",
        "        hidden_number_is_bigger = true_agent.decision(shown_number)\n",
        "        always_true_rewards.append(get_reward(hidden_number_is_bigger, actual))    \n",
        "\n",
        "        ## optimal strategy\n",
        "        hidden_number_is_bigger = optimal_agent.decision(shown_number)\n",
        "        optimal_rewards.append(get_reward(hidden_number_is_bigger, actual))          \n",
        "\n",
        "        # linear strategy\n",
        "        mu = (i*mu + shown_number)/(i+1)\n",
        "        sigma = (i*sigma + (shown_number-mu)**2)/(i+1)\n",
        "        if i > 2:\n",
        "            z = (shown_number-mu)/sigma**.5\n",
        "        else:\n",
        "            z = shown_number\n",
        "        hidden_number_is_bigger = linear_agent.decision(z)\n",
        "        linear_agent.update_rule(actual.type(torch.float32))    \n",
        "        linear_rewards.append(get_reward(hidden_number_is_bigger, actual))\n",
        "\n",
        "        # mlp strategy\n",
        "        hidden_number_is_bigger = mlp_agent.decision(z)\n",
        "        mlp_agent.update_rule(actual.type(torch.float32))    \n",
        "        mlp_rewards.append(get_reward(hidden_number_is_bigger, actual))  \n",
        "\n",
        "\n",
        "\n",
        "    return linear_rewards, random_rewards, mlp_rewards, always_true_rewards, optimal_rewards"
      ],
      "metadata": {
        "id": "EfsPr4aFuhCA"
      },
      "execution_count": null,
      "outputs": []
    },
    {
      "cell_type": "code",
      "source": [
        "for i in range(10):\n",
        "    linear_rewards, random_rewards, mlp_rewards, always_true_rewards, optimal_rewards = generate_normal_run()    \n",
        "    if i == 0:\n",
        "        plt.plot(all_correct_rewards - np.cumsum(np.array(linear_rewards)), color = 'b', alpha = .5,\n",
        "                label = \"linear agent\")\n",
        "        plt.plot(all_correct_rewards- np.cumsum(np.array(random_rewards)), color = 'orange', alpha = .5,\n",
        "                label = \"random agent\")\n",
        "        plt.plot(all_correct_rewards- np.cumsum(np.array(mlp_rewards)), color = 'green', alpha = .5,\n",
        "                label = \"mlp agent\")\n",
        "        plt.plot(all_correct_rewards- np.cumsum(np.array(always_true_rewards)), color = 'red', alpha = .5,\n",
        "                label = \"always true\")\n",
        "        plt.plot(all_correct_rewards- np.cumsum(np.array(optimal_rewards)), color = 'k', alpha = .5, marker = 'o',\n",
        "                label = \"optimal agent\")        \n",
        "    else:\n",
        "        plt.plot(all_correct_rewards - np.cumsum(np.array(linear_rewards)), color = 'b', alpha = .5,)\n",
        "        plt.plot(all_correct_rewards- np.cumsum(np.array(random_rewards)), color = 'orange', alpha = .5,)\n",
        "        plt.plot(all_correct_rewards- np.cumsum(np.array(mlp_rewards)), color = 'green', alpha = .5,)\n",
        "        plt.plot(all_correct_rewards- np.cumsum(np.array(always_true_rewards)), color = 'red', alpha = .5,)\n",
        "        plt.plot(all_correct_rewards- np.cumsum(np.array(optimal_rewards)), color = 'k', alpha = .5, marker = 'o')           \n",
        "plt.xlabel(\"Game iteration\")\n",
        "plt.ylabel(\"Regret\")\n",
        "plt.legend();"
      ],
      "metadata": {
        "colab": {
          "base_uri": "https://localhost:8080/",
          "height": 279
        },
        "id": "0giBhfwtIBHo",
        "outputId": "5bb04e3e-868c-404e-d67d-351f32c0251b"
      },
      "execution_count": null,
      "outputs": [
        {
          "output_type": "display_data",
          "data": {
            "text/plain": [
              "<Figure size 432x288 with 1 Axes>"
            ],
            "image/png": "[encoded data removed]"
          },
          "metadata": {
            "needs_background": "light"
          }
        }
      ]
    },
    {
      "cell_type": "code",
      "source": [
        "        plt.plot(all_correct_rewards - np.cumsum(np.array(linear_rewards)), color = 'b', alpha = .5,\n",
        "                label = \"linear agent\")\n",
        "        plt.plot(all_correct_rewards- np.cumsum(np.array(random_rewards)), color = 'orange', alpha = .5,\n",
        "                label = \"random agent\")\n",
        "        plt.plot(all_correct_rewards- np.cumsum(np.array(mlp_rewards)), color = 'green', alpha = .5,\n",
        "                label = \"mlp agent\")\n",
        "        plt.plot(all_correct_rewards- np.cumsum(np.array(always_true_rewards)), color = 'red', alpha = .5,\n",
        "                label = \"always true\")\n",
        "        plt.plot(all_correct_rewards- np.cumsum(np.array(optimal_rewards)), color = 'k', alpha = .5,\n",
        "                label = \"optimal agent\")  "
      ],
      "metadata": {
        "colab": {
          "base_uri": "https://localhost:8080/",
          "height": 282
        },
        "id": "pvoKYAsU9VK-",
        "outputId": "0fbfc883-8e51-4034-f2c3-faead42b94cb"
      },
      "execution_count": null,
      "outputs": [
        {
          "output_type": "execute_result",
          "data": {
            "text/plain": [
              "[<matplotlib.lines.Line2D at 0x7f4efc515490>]"
            ]
          },
          "metadata": {},
          "execution_count": 71
        },
        {
          "output_type": "display_data",
          "data": {
            "text/plain": [
              "<Figure size 432x288 with 1 Axes>"
            ],
            "image/png": "[encoded data removed]"
          },
          "metadata": {
            "needs_background": "light"
          }
        }
      ]
    },
    {
      "cell_type": "markdown",
      "source": [
        "### heavy tail distribution"
      ],
      "metadata": {
        "id": "2602Yse_tVMp"
      }
    },
    {
      "cell_type": "code",
      "source": [
        "from scipy.stats import pareto"
      ],
      "metadata": {
        "id": "fW0P4ixgn25G"
      },
      "execution_count": null,
      "outputs": []
    },
    {
      "cell_type": "code",
      "source": [
        "optimal_rewards = np.cumsum(np.ones_like(linear_rewards))\n",
        "\n",
        "\n",
        "def generate_pareto_run(num_iterations = 10000):\n",
        "    random_agent = RandomDecision()\n",
        "    true_agent = AlwaysTrue()\n",
        "    linear_agent = LinearMLPDecision(1e-3)\n",
        "    #linear_agent = LinearDecision(1e-3)\n",
        "    mlp_agent = MLPDecision(1e-3)\n",
        "    random_rewards = []\n",
        "    always_true_rewards = []\n",
        "    linear_rewards = []\n",
        "    mlp_rewards = []\n",
        "\n",
        "\n",
        "    def get_reward(hidden_number_is_bigger, actual):\n",
        "        if hidden_number_is_bigger == actual:\n",
        "            return 1\n",
        "        else:\n",
        "            return 0\n",
        "\n",
        "    mu = 0\n",
        "    sigma = 0\n",
        "    for i in range(10000):\n",
        "        a, b = 4.32, 3.18    \n",
        "        selected_numbers = torch.from_numpy(pareto.rvs(a, b, size = 2).astype(np.float32))\n",
        "        coin_flip = random.randint(0,1)\n",
        "        shown_number = selected_numbers[coin_flip]\n",
        "        hidden_number = selected_numbers[~coin_flip]\n",
        "\n",
        "        actual = hidden_number > shown_number\n",
        "\n",
        "        ## naive strategy\n",
        "        hidden_number_is_bigger = random_agent.decision(shown_number)\n",
        "        random_rewards.append(get_reward(hidden_number_is_bigger, actual))\n",
        "\n",
        "        ## always return true strategy\n",
        "        hidden_number_is_bigger = true_agent.decision(shown_number)\n",
        "        always_true_rewards.append(get_reward(hidden_number_is_bigger, actual))    \n",
        "\n",
        "        # linear strategy\n",
        "        mu = (i*mu + shown_number)/(i+1)\n",
        "        sigma = (i*sigma + (shown_number-mu)**2)/(i+1)\n",
        "        if i > 2:\n",
        "            z = (shown_number-mu)/sigma**.5\n",
        "        else:\n",
        "            z = shown_number\n",
        "        hidden_number_is_bigger = linear_agent.decision(z)\n",
        "        linear_agent.update_rule(actual.type(torch.float32))    \n",
        "        linear_rewards.append(get_reward(hidden_number_is_bigger, actual))\n",
        "\n",
        "        # mlp strategy\n",
        "        hidden_number_is_bigger = mlp_agent.decision(z)\n",
        "        mlp_agent.update_rule(actual.type(torch.float32))    \n",
        "        mlp_rewards.append(get_reward(hidden_number_is_bigger, actual))  \n",
        "\n",
        "\n",
        "\n",
        "    return linear_rewards, random_rewards, mlp_rewards, always_true_rewards"
      ],
      "metadata": {
        "id": "FTWGdn3Ra5Vn"
      },
      "execution_count": null,
      "outputs": []
    },
    {
      "cell_type": "code",
      "source": [
        "for i in range(10):\n",
        "    linear_rewards, random_rewards, mlp_rewards, always_true_rewards = generate_pareto_run()    \n",
        "    if i == 0:\n",
        "        plt.plot(optimal_rewards - np.cumsum(np.array(linear_rewards)), color = 'b', alpha = .5,\n",
        "                label = \"linear agent\")\n",
        "        plt.plot(optimal_rewards- np.cumsum(np.array(random_rewards)), color = 'orange', alpha = .5,\n",
        "                label = \"random agent\")\n",
        "        plt.plot(optimal_rewards- np.cumsum(np.array(mlp_rewards)), color = 'green', alpha = .5,\n",
        "                label = \"mlp agent\")\n",
        "        plt.plot(optimal_rewards- np.cumsum(np.array(always_true_rewards)), color = 'red', alpha = .5,\n",
        "                label = \"always true\")\n",
        "    else:\n",
        "        plt.plot(optimal_rewards - np.cumsum(np.array(linear_rewards)), color = 'b', alpha = .5,)\n",
        "        plt.plot(optimal_rewards- np.cumsum(np.array(random_rewards)), color = 'orange', alpha = .5,)\n",
        "        plt.plot(optimal_rewards- np.cumsum(np.array(mlp_rewards)), color = 'green', alpha = .5,)\n",
        "        plt.plot(optimal_rewards- np.cumsum(np.array(always_true_rewards)), color = 'red', alpha = .5,)\n",
        "plt.xlabel(\"Game iteration\")\n",
        "plt.ylabel(\"Regret\")\n",
        "plt.legend();"
      ],
      "metadata": {
        "colab": {
          "base_uri": "https://localhost:8080/",
          "height": 282
        },
        "id": "B2u7YHU-bE-z",
        "outputId": "2a783296-9af1-4b65-a9be-37207756044d"
      },
      "execution_count": null,
      "outputs": [
        {
          "output_type": "display_data",
          "data": {
            "text/plain": [
              "<Figure size 432x288 with 1 Axes>"
            ],
            "image/png": "[encoded data removed]"
          },
          "metadata": {
            "needs_background": "light"
          }
        }
      ]
    },
    {
      "cell_type": "markdown",
      "source": [
        "### S&P 500"
      ],
      "metadata": {
        "id": "VY4Pq9Q7U4wY"
      }
    },
    {
      "cell_type": "code",
      "source": [
        "import pandas as pd\n",
        "url = 'https://raw.githubusercontent.com/datasets/s-and-p-500/master/data/data.csv'\n",
        "df = pd.read_csv(url)"
      ],
      "metadata": {
        "id": "uGXIJYyFU2kP"
      },
      "execution_count": 72,
      "outputs": []
    },
    {
      "cell_type": "code",
      "source": [
        ""
      ],
      "metadata": {
        "colab": {
          "base_uri": "https://localhost:8080/",
          "height": 206
        },
        "id": "9yQS3t7CXTqm",
        "outputId": "d109cb11-cd8a-4781-a1c9-28ef9c9b2905"
      },
      "execution_count": 92,
      "outputs": [
        {
          "output_type": "execute_result",
          "data": {
            "text/plain": [
              "            Date    SP500  Dividend  Earnings  Consumer Price Index  \\\n",
              "1763  2017-12-01  2664.34     48.93    109.88                246.52   \n",
              "1764  2018-01-01  2789.80     49.29       NaN                247.87   \n",
              "1765  2018-02-01  2705.16     49.64       NaN                248.99   \n",
              "1766  2018-03-01  2702.77     50.00       NaN                249.55   \n",
              "1767  2018-04-01  2642.19       NaN       NaN                249.84   \n",
              "\n",
              "      Long Interest Rate  Real Price  Real Dividend  Real Earnings   PE10  \n",
              "1763                2.40     2700.13          49.59         111.36  32.09  \n",
              "1764                2.58     2811.96          49.68            NaN  33.31  \n",
              "1765                2.86     2714.34          49.81            NaN  32.12  \n",
              "1766                2.84     2705.82          50.06            NaN  31.99  \n",
              "1767                2.80     2642.19            NaN            NaN  31.19  "
            ],
            "text/html": [
              "\n",
              "  <div id=\"df-ca7d0569-bf61-455c-813b-6f5b17dcd1d9\">\n",
              "    <div class=\"colab-df-container\">\n",
              "      <div>\n",
              "<style scoped>\n",
              "    .dataframe tbody tr th:only-of-type {\n",
              "        vertical-align: middle;\n",
              "    }\n",
              "\n",
              "    .dataframe tbody tr th {\n",
              "        vertical-align: top;\n",
              "    }\n",
              "\n",
              "    .dataframe thead th {\n",
              "        text-align: right;\n",
              "    }\n",
              "</style>\n",
              "<table border=\"1\" class=\"dataframe\">\n",
              "  <thead>\n",
              "    <tr style=\"text-align: right;\">\n",
              "      <th></th>\n",
              "      <th>Date</th>\n",
              "      <th>SP500</th>\n",
              "      <th>Dividend</th>\n",
              "      <th>Earnings</th>\n",
              "      <th>Consumer Price Index</th>\n",
              "      <th>Long Interest Rate</th>\n",
              "      <th>Real Price</th>\n",
              "      <th>Real Dividend</th>\n",
              "      <th>Real Earnings</th>\n",
              "      <th>PE10</th>\n",
              "    </tr>\n",
              "  </thead>\n",
              "  <tbody>\n",
              "    <tr>\n",
              "      <th>1763</th>\n",
              "      <td>2017-12-01</td>\n",
              "      <td>2664.34</td>\n",
              "      <td>48.93</td>\n",
              "      <td>109.88</td>\n",
              "      <td>246.52</td>\n",
              "      <td>2.40</td>\n",
              "      <td>2700.13</td>\n",
              "      <td>49.59</td>\n",
              "      <td>111.36</td>\n",
              "      <td>32.09</td>\n",
              "    </tr>\n",
              "    <tr>\n",
              "      <th>1764</th>\n",
              "      <td>2018-01-01</td>\n",
              "      <td>2789.80</td>\n",
              "      <td>49.29</td>\n",
              "      <td>NaN</td>\n",
              "      <td>247.87</td>\n",
              "      <td>2.58</td>\n",
              "      <td>2811.96</td>\n",
              "      <td>49.68</td>\n",
              "      <td>NaN</td>\n",
              "      <td>33.31</td>\n",
              "    </tr>\n",
              "    <tr>\n",
              "      <th>1765</th>\n",
              "      <td>2018-02-01</td>\n",
              "      <td>2705.16</td>\n",
              "      <td>49.64</td>\n",
              "      <td>NaN</td>\n",
              "      <td>248.99</td>\n",
              "      <td>2.86</td>\n",
              "      <td>2714.34</td>\n",
              "      <td>49.81</td>\n",
              "      <td>NaN</td>\n",
              "      <td>32.12</td>\n",
              "    </tr>\n",
              "    <tr>\n",
              "      <th>1766</th>\n",
              "      <td>2018-03-01</td>\n",
              "      <td>2702.77</td>\n",
              "      <td>50.00</td>\n",
              "      <td>NaN</td>\n",
              "      <td>249.55</td>\n",
              "      <td>2.84</td>\n",
              "      <td>2705.82</td>\n",
              "      <td>50.06</td>\n",
              "      <td>NaN</td>\n",
              "      <td>31.99</td>\n",
              "    </tr>\n",
              "    <tr>\n",
              "      <th>1767</th>\n",
              "      <td>2018-04-01</td>\n",
              "      <td>2642.19</td>\n",
              "      <td>NaN</td>\n",
              "      <td>NaN</td>\n",
              "      <td>249.84</td>\n",
              "      <td>2.80</td>\n",
              "      <td>2642.19</td>\n",
              "      <td>NaN</td>\n",
              "      <td>NaN</td>\n",
              "      <td>31.19</td>\n",
              "    </tr>\n",
              "  </tbody>\n",
              "</table>\n",
              "</div>\n",
              "      <button class=\"colab-df-convert\" onclick=\"convertToInteractive('df-ca7d0569-bf61-455c-813b-6f5b17dcd1d9')\"\n",
              "              title=\"Convert this dataframe to an interactive table.\"\n",
              "              style=\"display:none;\">\n",
              "        \n",
              "  <svg xmlns=\"http://www.w3.org/2000/svg\" height=\"24px\"viewBox=\"0 0 24 24\"\n",
              "       width=\"24px\">\n",
              "    <path d=\"M0 0h24v24H0V0z\" fill=\"none\"/>\n",
              "    <path d=\"M18.56 5.44l.94 2.06.94-2.06 2.06-.94-2.06-.94-.94-2.06-.94 2.06-2.06.94zm-11 1L8.5 8.5l.94-2.06 2.06-.94-2.06-.94L8.5 2.5l-.94 2.06-2.06.94zm10 10l.94 2.06.94-2.06 2.06-.94-2.06-.94-.94-2.06-.94 2.06-2.06.94z\"/><path d=\"M17.41 7.96l-1.37-1.37c-.4-.4-.92-.59-1.43-.59-.52 0-1.04.2-1.43.59L10.3 9.45l-7.72 7.72c-.78.78-.78 2.05 0 2.83L4 21.41c.39.39.9.59 1.41.59.51 0 1.02-.2 1.41-.59l7.78-7.78 2.81-2.81c.8-.78.8-2.07 0-2.86zM5.41 20L4 18.59l7.72-7.72 1.47 1.35L5.41 20z\"/>\n",
              "  </svg>\n",
              "      </button>\n",
              "      \n",
              "  <style>\n",
              "    .colab-df-container {\n",
              "      display:flex;\n",
              "      flex-wrap:wrap;\n",
              "      gap: 12px;\n",
              "    }\n",
              "\n",
              "    .colab-df-convert {\n",
              "      background-color: #E8F0FE;\n",
              "      border: none;\n",
              "      border-radius: 50%;\n",
              "      cursor: pointer;\n",
              "      display: none;\n",
              "      fill: #1967D2;\n",
              "      height: 32px;\n",
              "      padding: 0 0 0 0;\n",
              "      width: 32px;\n",
              "    }\n",
              "\n",
              "    .colab-df-convert:hover {\n",
              "      background-color: #E2EBFA;\n",
              "      box-shadow: 0px 1px 2px rgba(60, 64, 67, 0.3), 0px 1px 3px 1px rgba(60, 64, 67, 0.15);\n",
              "      fill: #174EA6;\n",
              "    }\n",
              "\n",
              "    [theme=dark] .colab-df-convert {\n",
              "      background-color: #3B4455;\n",
              "      fill: #D2E3FC;\n",
              "    }\n",
              "\n",
              "    [theme=dark] .colab-df-convert:hover {\n",
              "      background-color: #434B5C;\n",
              "      box-shadow: 0px 1px 3px 1px rgba(0, 0, 0, 0.15);\n",
              "      filter: drop-shadow(0px 1px 2px rgba(0, 0, 0, 0.3));\n",
              "      fill: #FFFFFF;\n",
              "    }\n",
              "  </style>\n",
              "\n",
              "      <script>\n",
              "        const buttonEl =\n",
              "          document.querySelector('#df-ca7d0569-bf61-455c-813b-6f5b17dcd1d9 button.colab-df-convert');\n",
              "        buttonEl.style.display =\n",
              "          google.colab.kernel.accessAllowed ? 'block' : 'none';\n",
              "\n",
              "        async function convertToInteractive(key) {\n",
              "          const element = document.querySelector('#df-ca7d0569-bf61-455c-813b-6f5b17dcd1d9');\n",
              "          const dataTable =\n",
              "            await google.colab.kernel.invokeFunction('convertToInteractive',\n",
              "                                                     [key], {});\n",
              "          if (!dataTable) return;\n",
              "\n",
              "          const docLinkHtml = 'Like what you see? Visit the ' +\n",
              "            '<a target=\"_blank\" href=https://colab.research.google.com/notebooks/data_table.ipynb>data table notebook</a>'\n",
              "            + ' to learn more about interactive tables.';\n",
              "          element.innerHTML = '';\n",
              "          dataTable['output_type'] = 'display_data';\n",
              "          await google.colab.output.renderOutput(dataTable, element);\n",
              "          const docLink = document.createElement('div');\n",
              "          docLink.innerHTML = docLinkHtml;\n",
              "          element.appendChild(docLink);\n",
              "        }\n",
              "      </script>\n",
              "    </div>\n",
              "  </div>\n",
              "  "
            ]
          },
          "metadata": {},
          "execution_count": 92
        }
      ]
    },
    {
      "cell_type": "code",
      "source": [
        "#numbers = np.hstack((df['Real Price'].values, df['SP500'].values)).astype(np.float32)\n",
        "numbers = df['Real Price'].values.astype(np.float32)"
      ],
      "metadata": {
        "id": "ktL1EOhkbyVD"
      },
      "execution_count": 104,
      "outputs": []
    },
    {
      "cell_type": "code",
      "source": [
        "def generate_game(raw_numbers):\n",
        "    random_agent = RandomDecision()\n",
        "    true_agent = AlwaysTrue()\n",
        "    optimal_agent = OptimalDecision()\n",
        "    linear_agent = LinearMLPDecision(1e-3)\n",
        "    #linear_agent = LinearDecision(1e-3)\n",
        "    mlp_agent = MLPDecision(1e-3)\n",
        "    random_rewards = []\n",
        "    always_true_rewards = []\n",
        "    linear_rewards = []\n",
        "    mlp_rewards = []\n",
        "    optimal_rewards = []\n",
        "\n",
        "\n",
        "    def get_reward(hidden_number_is_bigger, actual):\n",
        "        if hidden_number_is_bigger == actual:\n",
        "            return 1\n",
        "        else:\n",
        "            return 0\n",
        "\n",
        "    mu = 0\n",
        "    sigma = 0\n",
        "    for i in range(0, len(raw_numbers),2):\n",
        "        selected_numbers = torch.from_numpy(raw_numbers[i:i+2])\n",
        "        coin_flip = random.randint(0,1)\n",
        "        shown_number = selected_numbers[coin_flip]\n",
        "        hidden_number = selected_numbers[~coin_flip]\n",
        "\n",
        "        actual = hidden_number > shown_number\n",
        "\n",
        "        ## naive strategy\n",
        "        hidden_number_is_bigger = random_agent.decision(shown_number)\n",
        "        random_rewards.append(get_reward(hidden_number_is_bigger, actual))\n",
        "\n",
        "        ## always return true strategy\n",
        "        hidden_number_is_bigger = true_agent.decision(shown_number)\n",
        "        always_true_rewards.append(get_reward(hidden_number_is_bigger, actual))   \n",
        "\n",
        "\n",
        "        ## optimal strategy\n",
        "        hidden_number_is_bigger = optimal_agent.decision(shown_number)\n",
        "        optimal_rewards.append(get_reward(hidden_number_is_bigger, actual))             \n",
        "\n",
        "        # linear strategy\n",
        "        mu = (i*mu + shown_number)/(i+1)\n",
        "        sigma = (i*sigma + (shown_number-mu)**2)/(i+1)\n",
        "        if i > 2:\n",
        "            z = (shown_number-mu)/sigma**.5\n",
        "        else:\n",
        "            z = shown_number\n",
        "        hidden_number_is_bigger = linear_agent.decision(z)\n",
        "        linear_agent.update_rule(actual.type(torch.float32))    \n",
        "        linear_rewards.append(get_reward(hidden_number_is_bigger, actual))\n",
        "\n",
        "        # mlp strategy\n",
        "        hidden_number_is_bigger = mlp_agent.decision(z)\n",
        "        mlp_agent.update_rule(actual.type(torch.float32))    \n",
        "        mlp_rewards.append(get_reward(hidden_number_is_bigger, actual))  \n",
        "\n",
        "\n",
        "\n",
        "    return linear_rewards, random_rewards, mlp_rewards, always_true_rewards, optimal_rewards"
      ],
      "metadata": {
        "id": "d8XzBvcVVEuE"
      },
      "execution_count": 188,
      "outputs": []
    },
    {
      "cell_type": "code",
      "source": [
        "from sklearn.utils import shuffle"
      ],
      "metadata": {
        "id": "uQGwGq7NWREC"
      },
      "execution_count": 189,
      "outputs": []
    },
    {
      "cell_type": "code",
      "source": [
        "plt.plot(numbers)\n",
        "plt.plot(shuffle(numbers))"
      ],
      "metadata": {
        "colab": {
          "base_uri": "https://localhost:8080/",
          "height": 282
        },
        "id": "iKEx2H-PWUxC",
        "outputId": "67cbed0b-e62f-4a49-8e7b-cf17a8336b4e"
      },
      "execution_count": 190,
      "outputs": [
        {
          "output_type": "execute_result",
          "data": {
            "text/plain": [
              "[<matplotlib.lines.Line2D at 0x7f4ef790b610>]"
            ]
          },
          "metadata": {},
          "execution_count": 190
        },
        {
          "output_type": "display_data",
          "data": {
            "text/plain": [
              "<Figure size 432x288 with 1 Axes>"
            ],
            "image/png": "[encoded data removed]"
          },
          "metadata": {
            "needs_background": "light"
          }
        }
      ]
    },
    {
      "cell_type": "code",
      "source": [
        "from dataclasses import dataclass, field\n",
        "from typing import List\n",
        "\n",
        "@dataclass\n",
        "class GameRewards:\n",
        "    linear_rewards: List = field(default_factory=list)\n",
        "    random_rewards: List = field(default_factory=list)\n",
        "    mlp_rewards: List = field(default_factory=list)\n",
        "    always_true_rewards: List = field(default_factory=list)\n",
        "    optimal_rewards: List = field(default_factory=list)"
      ],
      "metadata": {
        "id": "iLBWLOENYycc"
      },
      "execution_count": 191,
      "outputs": []
    },
    {
      "cell_type": "code",
      "source": [
        "%%time\n",
        "a, b = 4.32, 3.18    \n",
        "numbers = pareto.rvs(a, b, size = 10000).astype(np.float32)\n",
        "\n",
        "\n",
        "all_correct_rewards = np.cumsum(np.ones_like(numbers[:len(numbers)//2]))\n",
        "\n",
        "results = GameRewards()\n",
        "for _ in range(10):\n",
        "    numbers = pareto.rvs(a, b, size = 10000).astype(np.float32)\n",
        "    linear_rewards, random_rewards, mlp_rewards, always_true_rewards, optimal_rewards = generate_game(numbers)\n",
        "    results.linear_rewards.append(linear_rewards)\n",
        "    results.always_true_rewards.append(always_true_rewards)\n",
        "    results.mlp_rewards.append(mlp_rewards)\n",
        "    results.random_rewards.append(random_rewards)\n",
        "    results.optimal_rewards.append(optimal_rewards)"
      ],
      "metadata": {
        "colab": {
          "base_uri": "https://localhost:8080/"
        },
        "id": "ibSRwAyxVEjx",
        "outputId": "4d0466ec-352c-4781-8190-67f1bef682fb"
      },
      "execution_count": 215,
      "outputs": [
        {
          "output_type": "stream",
          "name": "stdout",
          "text": [
            "CPU times: user 54.4 s, sys: 99.6 ms, total: 54.5 s\n",
            "Wall time: 55.7 s\n"
          ]
        }
      ]
    },
    {
      "cell_type": "code",
      "source": [
        "plt.plot(all_correct_rewards - np.mean(np.cumsum(results.linear_rewards,axis=0), axis = 0), color = 'b', alpha = .5,\n",
        "        label = \"linear agent\")\n",
        "plt.plot(all_correct_rewards- np.mean(np.cumsum(results.random_rewards, axis = 0), axis = 0), color = 'orange', alpha = .5,\n",
        "        label = \"random agent\")\n",
        "plt.plot(all_correct_rewards- np.mean(np.cumsum(results.mlp_rewards, axis = 0), axis = 0), color = 'green', alpha = .5,\n",
        "        label = \"mlp agent\")\n",
        "plt.plot(all_correct_rewards- np.mean(np.cumsum(results.always_true_rewards,axis=0), axis = 0), color = 'red', alpha = .5,\n",
        "        label = \"always true\")\n",
        "plt.plot(all_correct_rewards- np.mean(np.cumsum(results.optimal_rewards, axis = 0), axis = 0), color = 'k', alpha = .5, \n",
        "        label = \"optimal agent\")   \n",
        "#plt.fill_between(range(len(all_correct_rewards)), (y-ci), (y+ci), color='b', alpha=.1)            \n",
        "plt.xlabel(\"Game iteration\")\n",
        "plt.ylabel(\"Regret\")\n",
        "plt.legend();"
      ],
      "metadata": {
        "colab": {
          "base_uri": "https://localhost:8080/",
          "height": 279
        },
        "id": "o4rtkP91WveO",
        "outputId": "029997e1-4de0-4acb-fd66-23b2c1654831"
      },
      "execution_count": 217,
      "outputs": [
        {
          "output_type": "display_data",
          "data": {
            "text/plain": [
              "<Figure size 432x288 with 1 Axes>"
            ],
            "image/png": "[encoded data removed]"
          },
          "metadata": {
            "needs_background": "light"
          }
        }
      ]
    },
    {
      "cell_type": "code",
      "source": [
        ""
      ],
      "metadata": {
        "id": "TEbbbhgGhoQe"
      },
      "execution_count": null,
      "outputs": []
    },
    {
      "cell_type": "code",
      "source": [
        "np.mean(np.cumsum(results.optimal_rewards, axis = 0),axis = 0).shape"
      ],
      "metadata": {
        "colab": {
          "base_uri": "https://localhost:8080/"
        },
        "id": "ohVv8Q_KhlSe",
        "outputId": "5b41f8ad-2ea3-4d1b-ba44-26de5d24f3a1"
      },
      "execution_count": 207,
      "outputs": [
        {
          "output_type": "execute_result",
          "data": {
            "text/plain": [
              "(884,)"
            ]
          },
          "metadata": {},
          "execution_count": 207
        }
      ]
    },
    {
      "cell_type": "markdown",
      "source": [
        "## misc"
      ],
      "metadata": {
        "id": "9nluT_5mtTdx"
      }
    },
    {
      "cell_type": "code",
      "source": [
        "torch.tensor(5)"
      ],
      "metadata": {
        "colab": {
          "base_uri": "https://localhost:8080/"
        },
        "id": "7wq401XebzWw",
        "outputId": "e28e6a8f-ef85-4e40-8b0f-770df4edb0cd"
      },
      "execution_count": null,
      "outputs": [
        {
          "output_type": "execute_result",
          "data": {
            "text/plain": [
              "tensor(5)"
            ]
          },
          "metadata": {},
          "execution_count": 65
        }
      ]
    },
    {
      "cell_type": "code",
      "source": [
        "import matplotlib.pyplot as plt"
      ],
      "metadata": {
        "id": "XhkJAPVIb9FF"
      },
      "execution_count": null,
      "outputs": []
    },
    {
      "cell_type": "code",
      "source": [
        "plt.plot(np.cumsum(np.array(rewards)))"
      ],
      "metadata": {
        "colab": {
          "base_uri": "https://localhost:8080/",
          "height": 283
        },
        "id": "ePNy9C7ecwWh",
        "outputId": "2e413969-fd3e-40c9-b284-e09f844c2413"
      },
      "execution_count": null,
      "outputs": [
        {
          "output_type": "execute_result",
          "data": {
            "text/plain": [
              "[<matplotlib.lines.Line2D at 0x7ff118033c50>]"
            ]
          },
          "metadata": {},
          "execution_count": 109
        },
        {
          "output_type": "display_data",
          "data": {
            "image/png": "[encoded data removed]",
            "text/plain": [
              "<Figure size 432x288 with 1 Axes>"
            ]
          },
          "metadata": {
            "needs_background": "light"
          }
        }
      ]
    },
    {
      "cell_type": "code",
      "source": [
        "naive_agent = NaiveDecision()\n",
        "#linear_agent = LinearMLPDecision(0.9)\n",
        "linear_agent = LinearDecision(0.9)\n",
        "mlp_agent = MLPDecision(1e-3)\n",
        "naive_rewards = []\n",
        "linear_rewards = []\n",
        "mlp_rewards = []\n",
        "\n",
        "\n",
        "def get_reward(hidden_number_is_bigger, actual):\n",
        "    if hidden_number_is_bigger == actual:\n",
        "        return 1\n",
        "    else:\n",
        "        return 0\n"
      ],
      "metadata": {
        "id": "v17HbdrQtFnp"
      },
      "execution_count": null,
      "outputs": []
    },
    {
      "cell_type": "code",
      "source": [
        "shown_number = 7000\n",
        "\n"
      ],
      "metadata": {
        "id": "qMn0eYpBtTqu"
      },
      "execution_count": null,
      "outputs": []
    },
    {
      "cell_type": "code",
      "source": [
        "## naive strategy\n",
        "hidden_number_is_bigger = naive_agent.decision(shown_number)\n",
        "naive_rewards.append(get_reward(hidden_number_is_bigger, actual))"
      ],
      "metadata": {
        "id": "6wsooMg5tsjS"
      },
      "execution_count": null,
      "outputs": []
    },
    {
      "cell_type": "code",
      "source": [
        "hidden_number_is_bigger = linear_agent.decision(shown_number)\n",
        "hidden_number_is_bigger"
      ],
      "metadata": {
        "colab": {
          "base_uri": "https://localhost:8080/"
        },
        "id": "K6G0gs5Gtwx-",
        "outputId": "f6f54c12-c774-4ef1-fff7-8c360e0162c3"
      },
      "execution_count": null,
      "outputs": [
        {
          "output_type": "execute_result",
          "data": {
            "text/plain": [
              "False"
            ]
          },
          "metadata": {},
          "execution_count": 275
        }
      ]
    },
    {
      "cell_type": "code",
      "source": [
        "actual = torch.tensor(8) > torch.tensor(shown_number)\n",
        "linear_agent.update_rule(actual.type(torch.float32))    \n",
        "linear_rewards.append(get_reward(hidden_number_is_bigger, actual))"
      ],
      "metadata": {
        "id": "OIleiWVyuN-Z"
      },
      "execution_count": null,
      "outputs": []
    },
    {
      "cell_type": "code",
      "source": [
        "linear_rewards"
      ],
      "metadata": {
        "colab": {
          "base_uri": "https://localhost:8080/"
        },
        "id": "JtfZPlwiutnu",
        "outputId": "db72e861-9af9-4d7e-c19d-6352cb88490f"
      },
      "execution_count": null,
      "outputs": [
        {
          "output_type": "execute_result",
          "data": {
            "text/plain": [
              "[0, 0, 1, 1, 0, 0, 1, 1, 1, 1, 1]"
            ]
          },
          "metadata": {},
          "execution_count": 292
        }
      ]
    },
    {
      "cell_type": "code",
      "source": [
        "naive_rewards = [random.randint(0,1) for _ in range(len(linear_rewards))]"
      ],
      "metadata": {
        "id": "6ISb1a47w-Ta"
      },
      "execution_count": null,
      "outputs": []
    },
    {
      "cell_type": "code",
      "source": [
        "optimal_rewards = np.cumsum(np.ones_like(linear_rewards))"
      ],
      "metadata": {
        "id": "8h1-zgZpxUDT"
      },
      "execution_count": null,
      "outputs": []
    },
    {
      "cell_type": "code",
      "source": [
        "plt.plot(optimal_rewards - np.cumsum(np.array(linear_rewards)), label = \"linear agent\")\n",
        "naive_rewards = [random.randint(0,1) for _ in range(len(linear_rewards))]\n",
        "plt.plot(optimal_rewards- np.cumsum(np.array(naive_rewards)), label = \"naive agent\")\n",
        "#plt.plot(-optimal_rewards, label = \"optimal\")\n",
        "#plt.plot(optimal_rewards- np.cumsum(np.array(mlp_rewards)), label = \"mlp agent\")\n",
        "plt.ylabel(\"Regret\")\n",
        "plt.legend();"
      ],
      "metadata": {
        "colab": {
          "base_uri": "https://localhost:8080/",
          "height": 265
        },
        "id": "Dmsi8gQsxPvw",
        "outputId": "e5b02dc3-171b-4536-9202-0aac00b00927"
      },
      "execution_count": null,
      "outputs": [
        {
          "output_type": "display_data",
          "data": {
            "image/png": "[encoded data removed]",
            "text/plain": [
              "<Figure size 432x288 with 1 Axes>"
            ]
          },
          "metadata": {
            "needs_background": "light"
          }
        }
      ]
    },
    {
      "cell_type": "code",
      "source": [
        "\n",
        "\n",
        "guesses = []\n",
        "for _ in range(1000):\n",
        "    naive_rewards = [random.randint(0,1) for _ in range(len(linear_rewards))]\n",
        "    guesses.append(optimal_rewards- np.cumsum(np.array(naive_rewards)))\n",
        "plt.plot(np.median(np.array(guesses),0), color = 'gray')\n",
        "plt.plot(optimal_rewards - np.cumsum(np.array(linear_rewards)), label = \"linear agent\", lw = 3)\n",
        "#plt.plot(optimal_rewards- np.cumsum(np.array(mlp_rewards)), label = \"mlp agent\")\n",
        "plt.ylabel(\"Regret\")\n",
        "plt.legend();"
      ],
      "metadata": {
        "colab": {
          "base_uri": "https://localhost:8080/",
          "height": 265
        },
        "id": "_9lIWpFmx8gg",
        "outputId": "98c1fb18-0bf9-464c-a9c1-dc929ff8d2ae"
      },
      "execution_count": null,
      "outputs": [
        {
          "output_type": "display_data",
          "data": {
            "image/png": "[encoded data removed]",
            "text/plain": [
              "<Figure size 432x288 with 1 Axes>"
            ]
          },
          "metadata": {
            "needs_background": "light"
          }
        }
      ]
    },
    {
      "cell_type": "code",
      "source": [
        "np.array(guesses)"
      ],
      "metadata": {
        "colab": {
          "base_uri": "https://localhost:8080/"
        },
        "id": "sy4388V-yxsH",
        "outputId": "8b1cff1d-e559-4330-9180-7cca4deb4aa1"
      },
      "execution_count": null,
      "outputs": [
        {
          "output_type": "execute_result",
          "data": {
            "text/plain": [
              "(1000, 11)"
            ]
          },
          "metadata": {},
          "execution_count": 326
        }
      ]
    },
    {
      "cell_type": "code",
      "source": [
        "|\n",
        "\n",
        "\n",
        "\n",
        "\n",
        "\n",
        "#selected_numbers = 3*torch.randn(2)+5\n",
        "selected_numbers = torch.from_numpy(datasets.make_blobs(n_samples=1,)[0]).type(torch.float32)[0]\n",
        "coin_flip = random.randint(0,1)\n",
        "shown_number = selected_numbers[coin_flip]\n",
        "hidden_number = selected_numbers[~coin_flip]\n",
        "\n",
        "actual = hidden_number > shown_number\n",
        "\n",
        "## naive strategy\n",
        "hidden_number_is_bigger = naive_agent.decision(shown_number)\n",
        "naive_rewards.append(get_reward(hidden_number_is_bigger, actual))\n",
        "\n",
        "# linear strategy\n",
        "hidden_number_is_bigger = linear_agent.decision(shown_number)\n",
        "linear_agent.update_rule(actual.type(torch.float32))    \n",
        "linear_rewards.append(get_reward(hidden_number_is_bigger, actual))\n",
        "\n",
        "# mlp strategy\n",
        "hidden_number_is_bigger = mlp_agent.decision(shown_number)\n",
        "mlp_agent.update_rule(actual.type(torch.float32))    \n",
        "mlp_rewards.append(get_reward(hidden_number_is_bigger, actual))\n",
        "\n",
        "\n",
        "    \n",
        "\n",
        "\n",
        "optimal_rewards = np.cumsum(np.ones_like(linear_rewards))"
      ],
      "metadata": {
        "id": "kWb0ZPrmcxZB"
      },
      "execution_count": null,
      "outputs": []
    },
    {
      "cell_type": "code",
      "source": [
        ""
      ],
      "metadata": {
        "id": "hMeMuu3Dw8Yv"
      },
      "execution_count": null,
      "outputs": []
    }
  ]
}