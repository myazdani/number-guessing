{
  "nbformat": 4,
  "nbformat_minor": 0,
  "metadata": {
    "colab": {
      "name": "number-guessing-learner.ipynb",
      "provenance": [],
      "collapsed_sections": [],
      "authorship_tag": "ABX9TyOh7R4ep0mPxH1TLBarjKJk",
      "include_colab_link": true
    },
    "kernelspec": {
      "name": "python3",
      "display_name": "Python 3"
    },
    "language_info": {
      "name": "python"
    }
  },
  "cells": [
    {
      "cell_type": "markdown",
      "metadata": {
        "id": "view-in-github",
        "colab_type": "text"
      },
      "source": [
        "<a href=\"https://colab.research.google.com/github/myazdani/number-guessing/blob/master/number_guessing_learner.ipynb\" target=\"_parent\"><img src=\"https://colab.research.google.com/assets/colab-badge.svg\" alt=\"Open In Colab\"/></a>"
      ]
    },
    {
      "cell_type": "markdown",
      "source": [
        "Reference for online logistic regerssion learning rule: https://courses.cs.washington.edu/courses/cse547/16sp/slides/logistic-SGD.pdf\n",
        "\n"
      ],
      "metadata": {
        "id": "PyQlL0qj4aJT"
      }
    },
    {
      "cell_type": "code",
      "execution_count": 1,
      "metadata": {
        "id": "UMoPK2jmEeFw"
      },
      "outputs": [],
      "source": [
        "import torch\n",
        "from torch import nn\n",
        "import numpy as np\n",
        "from torch import optim\n"
      ]
    },
    {
      "cell_type": "code",
      "source": [
        "import random\n",
        "import matplotlib.pyplot as plt"
      ],
      "metadata": {
        "id": "F3ie34WAFCNv"
      },
      "execution_count": 2,
      "outputs": []
    },
    {
      "cell_type": "code",
      "source": [
        "class RandomDecision:\n",
        "\n",
        "    def decision(self, shown_number=0):\n",
        "        self.prediction = bool(random.randint(0,1))\n",
        "        return self.prediction\n",
        "\n",
        "    def update_rule(self, actual):\n",
        "        pass\n",
        "\n",
        "\n",
        "class AlwaysTrue:\n",
        "\n",
        "    def decision(self, shown_number=0):\n",
        "        self.prediction = True\n",
        "        return self.prediction\n",
        "\n",
        "    def update_rule(self, actual):\n",
        "        pass        "
      ],
      "metadata": {
        "id": "_sEeGe0mFpLJ"
      },
      "execution_count": 3,
      "outputs": []
    },
    {
      "cell_type": "code",
      "source": [
        "class LinearDecision:\n",
        "    def __init__(self, lr = 0.1):\n",
        "        self.w0 = torch.randn(1)\n",
        "        self.w1 = torch.randn(1)\n",
        "        self.sigmoid = nn.Sigmoid()\n",
        "        self.lr = lr\n",
        "        self.t = 1\n",
        "    \n",
        "    def decision(self, shown_number):\n",
        "        self.shown_number = shown_number\n",
        "        self.prediction = self.sigmoid(self.shown_number*self.w1 + self.w0)\n",
        "        decision = bool(self.prediction > 0.5)\n",
        "        return decision\n",
        "\n",
        "    def update_rule(self, actual):\n",
        "        delta = actual - self.prediction\n",
        "        eta = self.lr/(1+np.log(self.t))\n",
        "        self.w0 = self.w0 + eta*delta\n",
        "        self.w1 = self.w1 + eta*self.shown_number*delta\n",
        "        self.t+=1\n",
        "        "
      ],
      "metadata": {
        "id": "ldkSmcjvZ5MH"
      },
      "execution_count": 4,
      "outputs": []
    },
    {
      "cell_type": "code",
      "source": [
        "class LinearMLPDecision:\n",
        "    def __init__(self, lr = 0.1):\n",
        "        self.model = nn.Sequential(\n",
        "            nn.Linear(1, 1), nn.Sigmoid()\n",
        "        )\n",
        "        self.lr = lr\n",
        "        self.t = 1\n",
        "        self.loss = nn.BCELoss()\n",
        "        self.sgd = optim.SGD(self.model.parameters(), lr=self.lr)\n",
        "\n",
        "\n",
        "    def decision(self, shown_number):\n",
        "        self.shown_number = shown_number\n",
        "        self.prediction = self.model(shown_number.view(1,1))\n",
        "        decision = bool(self.prediction.item() > 0.5)\n",
        "        return decision\n",
        "\n",
        "    def update_rule(self, actual):\n",
        "        eta = self.lr/(1+np.log(self.t))\n",
        "        for g in self.sgd.param_groups:\n",
        "            g['lr'] = eta\n",
        "        loss = self.loss(self.prediction, actual.view(1,1))\n",
        "        self.sgd.zero_grad()\n",
        "        loss.backward()\n",
        "        self.sgd.step()\n",
        "        self.t+=1\n",
        "        "
      ],
      "metadata": {
        "id": "99HCdfBrivgo"
      },
      "execution_count": 5,
      "outputs": []
    },
    {
      "cell_type": "code",
      "source": [
        "class MLPDecision:\n",
        "    def __init__(self, lr = 0.1):\n",
        "        self.model = nn.Sequential(\n",
        "            nn.Linear(1, 128),\n",
        "            nn.ReLU(), \n",
        "            nn.Linear(128, 1),\n",
        "            nn.Sigmoid()\n",
        "        )\n",
        "        self.lr = lr\n",
        "        self.t = 1\n",
        "        self.loss = nn.BCELoss()\n",
        "        self.sgd = optim.Adam(self.model.parameters(), lr=self.lr)\n",
        "\n",
        "\n",
        "    def decision(self, shown_number):\n",
        "        self.shown_number = shown_number\n",
        "        self.prediction = self.model(shown_number.view(1,1))\n",
        "        decision = bool(self.prediction.item() > 0.5)\n",
        "        return decision\n",
        "\n",
        "    def update_rule(self, actual):\n",
        "        # eta = self.lr/(1+np.log(self.t))\n",
        "        # for g in self.sgd.param_groups:\n",
        "        #     g['lr'] = eta\n",
        "        loss = self.loss(self.prediction, actual.view(1,1))\n",
        "        self.sgd.zero_grad()\n",
        "        loss.backward()\n",
        "        self.sgd.step()\n",
        "        self.t+=1\n",
        "        "
      ],
      "metadata": {
        "id": "4dux2QiamiPv"
      },
      "execution_count": 6,
      "outputs": []
    },
    {
      "cell_type": "code",
      "source": [
        "from sklearn import datasets"
      ],
      "metadata": {
        "id": "mDVzb95RqMP4"
      },
      "execution_count": 7,
      "outputs": []
    },
    {
      "cell_type": "code",
      "source": [
        ""
      ],
      "metadata": {
        "id": "jYEl0_FeqM_h"
      },
      "execution_count": null,
      "outputs": []
    },
    {
      "cell_type": "code",
      "source": [
        "random_agent = RandomDecision()\n",
        "true_agent = AlwaysTrue()\n",
        "#linear_agent = LinearMLPDecision(0.9)\n",
        "linear_agent = LinearDecision(0.9)\n",
        "mlp_agent = MLPDecision(1e-3)\n",
        "random_rewards = []\n",
        "always_true_rewards = []\n",
        "linear_rewards = []\n",
        "mlp_rewards = []\n",
        "\n",
        "\n",
        "def get_reward(hidden_number_is_bigger, actual):\n",
        "    if hidden_number_is_bigger == actual:\n",
        "        return 1\n",
        "    else:\n",
        "        return 0\n",
        "\n",
        "\n",
        "for _ in range(10000):\n",
        "    selected_numbers = 3*torch.randn(2)+5\n",
        "    #selected_numbers = torch.from_numpy(datasets.make_blobs(n_samples=1,)[0]).type(torch.float32)[0]\n",
        "    #selected_numbers = 2e15*(torch.rand(2)-.5)\n",
        "    coin_flip = random.randint(0,1)\n",
        "    shown_number = selected_numbers[coin_flip]\n",
        "    hidden_number = selected_numbers[~coin_flip]\n",
        "\n",
        "    actual = hidden_number > shown_number\n",
        "\n",
        "    ## random strategy\n",
        "    hidden_number_is_bigger = random_agent.decision(shown_number)\n",
        "    random_rewards.append(get_reward(hidden_number_is_bigger, actual))\n",
        "\n",
        "    ## always return true strategy\n",
        "    hidden_number_is_bigger = true_agent.decision(shown_number)\n",
        "    always_true_rewards.append(get_reward(hidden_number_is_bigger, actual))    \n",
        "\n",
        "    # linear strategy\n",
        "    hidden_number_is_bigger = linear_agent.decision(shown_number)\n",
        "    linear_agent.update_rule(actual.type(torch.float32))    \n",
        "    linear_rewards.append(get_reward(hidden_number_is_bigger, actual))\n",
        "\n",
        "    # mlp strategy\n",
        "    hidden_number_is_bigger = mlp_agent.decision(shown_number)\n",
        "    mlp_agent.update_rule(actual.type(torch.float32))    \n",
        "    mlp_rewards.append(get_reward(hidden_number_is_bigger, actual))\n",
        "\n",
        "\n",
        "    \n",
        "\n",
        "\n",
        "optimal_rewards = np.cumsum(np.ones_like(linear_rewards))"
      ],
      "metadata": {
        "id": "eN_uHFPNFqKx"
      },
      "execution_count": 10,
      "outputs": []
    },
    {
      "cell_type": "code",
      "source": [
        "\n",
        "plt.plot(optimal_rewards - np.cumsum(np.array(linear_rewards)), label = \"linear agent\")\n",
        "plt.plot(optimal_rewards- np.cumsum(np.array(random_rewards)), label = \"random agent\")\n",
        "plt.plot(optimal_rewards- np.cumsum(np.array(mlp_rewards)), label = \"mlp agent\")\n",
        "plt.plot(optimal_rewards- np.cumsum(np.array(always_true_rewards)), label = \"always true\")\n",
        "plt.ylabel(\"Regret\")\n",
        "plt.xlabel(\"Game iteration\")\n",
        "plt.legend();"
      ],
      "metadata": {
        "colab": {
          "base_uri": "https://localhost:8080/",
          "height": 279
        },
        "id": "lkRX9xH_c635",
        "outputId": "db028cab-6fa6-4e86-f782-ff221111e855"
      },
      "execution_count": 16,
      "outputs": [
        {
          "output_type": "display_data",
          "data": {
            "text/plain": [
              "<Figure size 432x288 with 1 Axes>"
            ],
            "image/png": "[encoded data removed]"
          },
          "metadata": {
            "needs_background": "light"
          }
        }
      ]
    },
    {
      "cell_type": "code",
      "source": [
        "naive_agent = NaiveDecision()\n",
        "true_agent = AlwaysTrue()\n",
        "#linear_agent = LinearMLPDecision(0.9)\n",
        "linear_agent = LinearDecision(0.9)\n",
        "mlp_agent = MLPDecision(1e-3)\n",
        "naive_rewards = []\n",
        "always_true_rewards = []\n",
        "linear_rewards = []\n",
        "mlp_rewards = []\n",
        "\n",
        "\n",
        "def get_reward(hidden_number_is_bigger, actual):\n",
        "    if hidden_number_is_bigger == actual:\n",
        "        return 1\n",
        "    else:\n",
        "        return 0\n",
        "\n",
        "mu = 0\n",
        "sigma = 0\n",
        "for i in range(10000):\n",
        "    selected_numbers = 3*torch.randn(2)+1000\n",
        "    #selected_numbers = torch.from_numpy(datasets.make_blobs(n_samples=1,)[0]).type(torch.float32)[0]\n",
        "    #selected_numbers = 2e15*(torch.rand(2)-.5)\n",
        "    coin_flip = random.randint(0,1)\n",
        "    shown_number = selected_numbers[coin_flip]\n",
        "    hidden_number = selected_numbers[~coin_flip]\n",
        "\n",
        "    actual = hidden_number > shown_number\n",
        "\n",
        "    ## naive strategy\n",
        "    hidden_number_is_bigger = naive_agent.decision(shown_number)\n",
        "    naive_rewards.append(get_reward(hidden_number_is_bigger, actual))\n",
        "\n",
        "    ## always return true strategy\n",
        "    hidden_number_is_bigger = true_agent.decision(shown_number)\n",
        "    always_true_rewards.append(get_reward(hidden_number_is_bigger, actual))    \n",
        "\n",
        "    # linear strategy\n",
        "    mu = (i*mu + shown_number)/(i+1)\n",
        "    sigma = (i*sigma + (shown_number-mu)**2)/(i+1)\n",
        "    if i > 2:\n",
        "        z = (shown_number-mu)/sigma**.5\n",
        "    else:\n",
        "        z = shown_number\n",
        "    hidden_number_is_bigger = linear_agent.decision(z)\n",
        "    linear_agent.update_rule(actual.type(torch.float32))    \n",
        "    linear_rewards.append(get_reward(hidden_number_is_bigger, actual))\n",
        "\n",
        "    # mlp strategy\n",
        "    hidden_number_is_bigger = mlp_agent.decision(z)\n",
        "    mlp_agent.update_rule(actual.type(torch.float32))    \n",
        "    mlp_rewards.append(get_reward(hidden_number_is_bigger, actual))\n",
        "\n",
        "\n",
        "    \n",
        "\n",
        "\n",
        "optimal_rewards = np.cumsum(np.ones_like(linear_rewards))"
      ],
      "metadata": {
        "id": "QZ1B4-TKG-dz"
      },
      "execution_count": null,
      "outputs": []
    },
    {
      "cell_type": "code",
      "source": [
        "\n",
        "plt.plot(optimal_rewards - np.cumsum(np.array(linear_rewards)), label = \"linear agent\")\n",
        "plt.plot(optimal_rewards- np.cumsum(np.array(naive_rewards)), label = \"naive agent\")\n",
        "plt.plot(optimal_rewards- np.cumsum(np.array(mlp_rewards)), label = \"mlp agent\")\n",
        "plt.plot(optimal_rewards- np.cumsum(np.array(always_true_rewards)), label = \"always true\")\n",
        "plt.ylabel(\"Regret\")\n",
        "plt.legend();"
      ],
      "metadata": {
        "colab": {
          "base_uri": "https://localhost:8080/",
          "height": 265
        },
        "id": "0giBhfwtIBHo",
        "outputId": "f01fd123-4605-4aba-d3ea-09e116937072"
      },
      "execution_count": null,
      "outputs": [
        {
          "output_type": "display_data",
          "data": {
            "image/png": "[encoded data removed]",
            "text/plain": [
              "<Figure size 432x288 with 1 Axes>"
            ]
          },
          "metadata": {
            "needs_background": "light"
          }
        }
      ]
    },
    {
      "cell_type": "code",
      "source": [
        "selected_numbers"
      ],
      "metadata": {
        "colab": {
          "base_uri": "https://localhost:8080/"
        },
        "id": "FTWGdn3Ra5Vn",
        "outputId": "ee3ea3c6-52ca-43ff-f87e-fd6c2d88af47"
      },
      "execution_count": null,
      "outputs": [
        {
          "output_type": "execute_result",
          "data": {
            "text/plain": [
              "tensor([1.0000e+12, 1.0000e+12])"
            ]
          },
          "metadata": {},
          "execution_count": 39
        }
      ]
    },
    {
      "cell_type": "code",
      "source": [
        "print(\"hi\")"
      ],
      "metadata": {
        "colab": {
          "base_uri": "https://localhost:8080/"
        },
        "id": "B2u7YHU-bE-z",
        "outputId": "65a66de9-ed9c-4d9e-a966-c4b04f2582a2"
      },
      "execution_count": null,
      "outputs": [
        {
          "output_type": "stream",
          "name": "stdout",
          "text": [
            "hi\n"
          ]
        }
      ]
    },
    {
      "cell_type": "code",
      "source": [
        ""
      ],
      "metadata": {
        "colab": {
          "base_uri": "https://localhost:8080/"
        },
        "id": "ktL1EOhkbyVD",
        "outputId": "25a130fc-503e-4b78-dc46-e394f7068bb5"
      },
      "execution_count": null,
      "outputs": [
        {
          "output_type": "execute_result",
          "data": {
            "text/plain": [
              "tensor([1.1159])"
            ]
          },
          "metadata": {},
          "execution_count": 78
        }
      ]
    },
    {
      "cell_type": "code",
      "source": [
        "torch.tensor(5)"
      ],
      "metadata": {
        "colab": {
          "base_uri": "https://localhost:8080/"
        },
        "id": "7wq401XebzWw",
        "outputId": "db239604-de7a-48aa-989d-ff4bcd6ba85c"
      },
      "execution_count": null,
      "outputs": [
        {
          "output_type": "execute_result",
          "data": {
            "text/plain": [
              "tensor(5)"
            ]
          },
          "metadata": {},
          "execution_count": 239
        }
      ]
    },
    {
      "cell_type": "code",
      "source": [
        "import matplotlib.pyplot as plt"
      ],
      "metadata": {
        "id": "XhkJAPVIb9FF"
      },
      "execution_count": null,
      "outputs": []
    },
    {
      "cell_type": "code",
      "source": [
        "plt.plot(np.cumsum(np.array(rewards)))"
      ],
      "metadata": {
        "colab": {
          "base_uri": "https://localhost:8080/",
          "height": 283
        },
        "id": "ePNy9C7ecwWh",
        "outputId": "2e413969-fd3e-40c9-b284-e09f844c2413"
      },
      "execution_count": null,
      "outputs": [
        {
          "output_type": "execute_result",
          "data": {
            "text/plain": [
              "[<matplotlib.lines.Line2D at 0x7ff118033c50>]"
            ]
          },
          "metadata": {},
          "execution_count": 109
        },
        {
          "output_type": "display_data",
          "data": {
            "image/png": "[encoded data removed]",
            "text/plain": [
              "<Figure size 432x288 with 1 Axes>"
            ]
          },
          "metadata": {
            "needs_background": "light"
          }
        }
      ]
    },
    {
      "cell_type": "code",
      "source": [
        "naive_agent = NaiveDecision()\n",
        "#linear_agent = LinearMLPDecision(0.9)\n",
        "linear_agent = LinearDecision(0.9)\n",
        "mlp_agent = MLPDecision(1e-3)\n",
        "naive_rewards = []\n",
        "linear_rewards = []\n",
        "mlp_rewards = []\n",
        "\n",
        "\n",
        "def get_reward(hidden_number_is_bigger, actual):\n",
        "    if hidden_number_is_bigger == actual:\n",
        "        return 1\n",
        "    else:\n",
        "        return 0\n"
      ],
      "metadata": {
        "id": "v17HbdrQtFnp"
      },
      "execution_count": null,
      "outputs": []
    },
    {
      "cell_type": "code",
      "source": [
        "shown_number = 7000\n",
        "\n"
      ],
      "metadata": {
        "id": "qMn0eYpBtTqu"
      },
      "execution_count": null,
      "outputs": []
    },
    {
      "cell_type": "code",
      "source": [
        "## naive strategy\n",
        "hidden_number_is_bigger = naive_agent.decision(shown_number)\n",
        "naive_rewards.append(get_reward(hidden_number_is_bigger, actual))"
      ],
      "metadata": {
        "id": "6wsooMg5tsjS"
      },
      "execution_count": null,
      "outputs": []
    },
    {
      "cell_type": "code",
      "source": [
        "hidden_number_is_bigger = linear_agent.decision(shown_number)\n",
        "hidden_number_is_bigger"
      ],
      "metadata": {
        "colab": {
          "base_uri": "https://localhost:8080/"
        },
        "id": "K6G0gs5Gtwx-",
        "outputId": "f6f54c12-c774-4ef1-fff7-8c360e0162c3"
      },
      "execution_count": null,
      "outputs": [
        {
          "output_type": "execute_result",
          "data": {
            "text/plain": [
              "False"
            ]
          },
          "metadata": {},
          "execution_count": 275
        }
      ]
    },
    {
      "cell_type": "code",
      "source": [
        "actual = torch.tensor(8) > torch.tensor(shown_number)\n",
        "linear_agent.update_rule(actual.type(torch.float32))    \n",
        "linear_rewards.append(get_reward(hidden_number_is_bigger, actual))"
      ],
      "metadata": {
        "id": "OIleiWVyuN-Z"
      },
      "execution_count": null,
      "outputs": []
    },
    {
      "cell_type": "code",
      "source": [
        "linear_rewards"
      ],
      "metadata": {
        "colab": {
          "base_uri": "https://localhost:8080/"
        },
        "id": "JtfZPlwiutnu",
        "outputId": "db72e861-9af9-4d7e-c19d-6352cb88490f"
      },
      "execution_count": null,
      "outputs": [
        {
          "output_type": "execute_result",
          "data": {
            "text/plain": [
              "[0, 0, 1, 1, 0, 0, 1, 1, 1, 1, 1]"
            ]
          },
          "metadata": {},
          "execution_count": 292
        }
      ]
    },
    {
      "cell_type": "code",
      "source": [
        "naive_rewards = [random.randint(0,1) for _ in range(len(linear_rewards))]"
      ],
      "metadata": {
        "id": "6ISb1a47w-Ta"
      },
      "execution_count": null,
      "outputs": []
    },
    {
      "cell_type": "code",
      "source": [
        "optimal_rewards = np.cumsum(np.ones_like(linear_rewards))"
      ],
      "metadata": {
        "id": "8h1-zgZpxUDT"
      },
      "execution_count": null,
      "outputs": []
    },
    {
      "cell_type": "code",
      "source": [
        "plt.plot(optimal_rewards - np.cumsum(np.array(linear_rewards)), label = \"linear agent\")\n",
        "naive_rewards = [random.randint(0,1) for _ in range(len(linear_rewards))]\n",
        "plt.plot(optimal_rewards- np.cumsum(np.array(naive_rewards)), label = \"naive agent\")\n",
        "#plt.plot(-optimal_rewards, label = \"optimal\")\n",
        "#plt.plot(optimal_rewards- np.cumsum(np.array(mlp_rewards)), label = \"mlp agent\")\n",
        "plt.ylabel(\"Regret\")\n",
        "plt.legend();"
      ],
      "metadata": {
        "colab": {
          "base_uri": "https://localhost:8080/",
          "height": 265
        },
        "id": "Dmsi8gQsxPvw",
        "outputId": "e5b02dc3-171b-4536-9202-0aac00b00927"
      },
      "execution_count": null,
      "outputs": [
        {
          "output_type": "display_data",
          "data": {
            "image/png": "[encoded data removed]",
            "text/plain": [
              "<Figure size 432x288 with 1 Axes>"
            ]
          },
          "metadata": {
            "needs_background": "light"
          }
        }
      ]
    },
    {
      "cell_type": "code",
      "source": [
        "\n",
        "\n",
        "guesses = []\n",
        "for _ in range(1000):\n",
        "    naive_rewards = [random.randint(0,1) for _ in range(len(linear_rewards))]\n",
        "    guesses.append(optimal_rewards- np.cumsum(np.array(naive_rewards)))\n",
        "plt.plot(np.median(np.array(guesses),0), color = 'gray')\n",
        "plt.plot(optimal_rewards - np.cumsum(np.array(linear_rewards)), label = \"linear agent\", lw = 3)\n",
        "#plt.plot(optimal_rewards- np.cumsum(np.array(mlp_rewards)), label = \"mlp agent\")\n",
        "plt.ylabel(\"Regret\")\n",
        "plt.legend();"
      ],
      "metadata": {
        "colab": {
          "base_uri": "https://localhost:8080/",
          "height": 265
        },
        "id": "_9lIWpFmx8gg",
        "outputId": "98c1fb18-0bf9-464c-a9c1-dc929ff8d2ae"
      },
      "execution_count": null,
      "outputs": [
        {
          "output_type": "display_data",
          "data": {
            "image/png": "[encoded data removed]",
            "text/plain": [
              "<Figure size 432x288 with 1 Axes>"
            ]
          },
          "metadata": {
            "needs_background": "light"
          }
        }
      ]
    },
    {
      "cell_type": "code",
      "source": [
        "np.array(guesses)"
      ],
      "metadata": {
        "colab": {
          "base_uri": "https://localhost:8080/"
        },
        "id": "sy4388V-yxsH",
        "outputId": "8b1cff1d-e559-4330-9180-7cca4deb4aa1"
      },
      "execution_count": null,
      "outputs": [
        {
          "output_type": "execute_result",
          "data": {
            "text/plain": [
              "(1000, 11)"
            ]
          },
          "metadata": {},
          "execution_count": 326
        }
      ]
    },
    {
      "cell_type": "code",
      "source": [
        "|\n",
        "\n",
        "\n",
        "\n",
        "\n",
        "\n",
        "#selected_numbers = 3*torch.randn(2)+5\n",
        "selected_numbers = torch.from_numpy(datasets.make_blobs(n_samples=1,)[0]).type(torch.float32)[0]\n",
        "coin_flip = random.randint(0,1)\n",
        "shown_number = selected_numbers[coin_flip]\n",
        "hidden_number = selected_numbers[~coin_flip]\n",
        "\n",
        "actual = hidden_number > shown_number\n",
        "\n",
        "## naive strategy\n",
        "hidden_number_is_bigger = naive_agent.decision(shown_number)\n",
        "naive_rewards.append(get_reward(hidden_number_is_bigger, actual))\n",
        "\n",
        "# linear strategy\n",
        "hidden_number_is_bigger = linear_agent.decision(shown_number)\n",
        "linear_agent.update_rule(actual.type(torch.float32))    \n",
        "linear_rewards.append(get_reward(hidden_number_is_bigger, actual))\n",
        "\n",
        "# mlp strategy\n",
        "hidden_number_is_bigger = mlp_agent.decision(shown_number)\n",
        "mlp_agent.update_rule(actual.type(torch.float32))    \n",
        "mlp_rewards.append(get_reward(hidden_number_is_bigger, actual))\n",
        "\n",
        "\n",
        "    \n",
        "\n",
        "\n",
        "optimal_rewards = np.cumsum(np.ones_like(linear_rewards))"
      ],
      "metadata": {
        "id": "kWb0ZPrmcxZB"
      },
      "execution_count": null,
      "outputs": []
    },
    {
      "cell_type": "code",
      "source": [
        ""
      ],
      "metadata": {
        "id": "hMeMuu3Dw8Yv"
      },
      "execution_count": null,
      "outputs": []
    }
  ]
}